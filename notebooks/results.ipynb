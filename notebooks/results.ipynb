{
 "cells": [
  {
   "cell_type": "code",
   "execution_count": 1,
   "metadata": {
    "collapsed": true
   },
   "outputs": [],
   "source": [
    "import pandas as pd"
   ]
  },
  {
   "cell_type": "code",
   "execution_count": 2,
   "outputs": [],
   "source": [
    "import numpy as np\n",
    "import matplotlib.pyplot as plt\n",
    "from scipy.spatial import Voronoi"
   ],
   "metadata": {
    "collapsed": false
   }
  },
  {
   "cell_type": "code",
   "execution_count": 3,
   "outputs": [],
   "source": [
    "from rdkit import Chem\n",
    "from rdkit.Chem import Draw"
   ],
   "metadata": {
    "collapsed": false
   }
  },
  {
   "cell_type": "code",
   "execution_count": 4,
   "outputs": [],
   "source": [
    "from IPython.display import display"
   ],
   "metadata": {
    "collapsed": false
   }
  },
  {
   "cell_type": "code",
   "execution_count": 5,
   "outputs": [],
   "source": [
    "import plotly.express as px"
   ],
   "metadata": {
    "collapsed": false
   }
  },
  {
   "cell_type": "code",
   "execution_count": 6,
   "outputs": [],
   "source": [
    "def voronoi_finite_polygons_2d(vor, radius=None):\n",
    "    \"\"\"\n",
    "    Reconstruct infinite voronoi regions in a 2D diagram to finite\n",
    "    regions.\n",
    "\n",
    "    Parameters\n",
    "    ----------\n",
    "    vor : Voronoi\n",
    "        Input diagram\n",
    "    radius : float, optional\n",
    "        Distance to 'points at infinity'.\n",
    "\n",
    "    Returns\n",
    "    -------\n",
    "    regions : list of tuples\n",
    "        Indices of vertices in each revised Voronoi regions.\n",
    "    vertices : list of tuples\n",
    "        Coordinates for revised Voronoi vertices. Same as coordinates\n",
    "        of input vertices, with 'points at infinity' appended to the\n",
    "        end.\n",
    "\n",
    "    \"\"\"\n",
    "\n",
    "    if vor.points.shape[1] != 2:\n",
    "        raise ValueError(\"Requires 2D input\")\n",
    "\n",
    "    new_regions = []\n",
    "    new_vertices = vor.vertices.tolist()\n",
    "\n",
    "    center = vor.points.mean(axis=0)\n",
    "    if radius is None:\n",
    "        radius = vor.points.ptp().max()\n",
    "\n",
    "    # Construct a map containing all ridges for a given point\n",
    "    all_ridges = {}\n",
    "    for (p1, p2), (v1, v2) in zip(vor.ridge_points, vor.ridge_vertices):\n",
    "        all_ridges.setdefault(p1, []).append((p2, v1, v2))\n",
    "        all_ridges.setdefault(p2, []).append((p1, v1, v2))\n",
    "\n",
    "    # Reconstruct infinite regions\n",
    "    for p1, region in enumerate(vor.point_region):\n",
    "        vertices = vor.regions[region]\n",
    "\n",
    "        if all(v >= 0 for v in vertices):\n",
    "            # finite region\n",
    "            new_regions.append(vertices)\n",
    "            continue\n",
    "\n",
    "        # reconstruct a non-finite region\n",
    "        ridges = all_ridges[p1]\n",
    "        new_region = [v for v in vertices if v >= 0]\n",
    "\n",
    "        for p2, v1, v2 in ridges:\n",
    "            if v2 < 0:\n",
    "                v1, v2 = v2, v1\n",
    "            if v1 >= 0:\n",
    "                # finite ridge: already in the region\n",
    "                continue\n",
    "\n",
    "            # Compute the missing endpoint of an infinite ridge\n",
    "\n",
    "            t = vor.points[p2] - vor.points[p1]  # tangent\n",
    "            t /= np.linalg.norm(t)\n",
    "            n = np.array([-t[1], t[0]])  # normal\n",
    "\n",
    "            midpoint = vor.points[[p1, p2]].mean(axis=0)\n",
    "            direction = np.sign(np.dot(midpoint - center, n)) * n\n",
    "            far_point = vor.vertices[v2] + direction * radius\n",
    "\n",
    "            new_region.append(len(new_vertices))\n",
    "            new_vertices.append(far_point.tolist())\n",
    "\n",
    "        # sort region counterclockwise\n",
    "        vs = np.asarray([new_vertices[v] for v in new_region])\n",
    "        c = vs.mean(axis=0)\n",
    "        angles = np.arctan2(vs[:, 1] - c[1], vs[:, 0] - c[0])\n",
    "        new_region = np.array(new_region)[np.argsort(angles)]\n",
    "\n",
    "        # finish\n",
    "        new_regions.append(new_region.tolist())\n",
    "\n",
    "    return new_regions, np.asarray(new_vertices)"
   ],
   "metadata": {
    "collapsed": false
   }
  },
  {
   "cell_type": "code",
   "execution_count": 7,
   "outputs": [],
   "source": [
    "FONTSIZE=16"
   ],
   "metadata": {
    "collapsed": false
   }
  },
  {
   "cell_type": "markdown",
   "source": [
    "## Reading data"
   ],
   "metadata": {
    "collapsed": false
   }
  },
  {
   "cell_type": "code",
   "execution_count": 125,
   "outputs": [],
   "source": [
    "d = pd.read_csv(\"/Users/mikhailandronov/work/reagent_emb_vis/data/uspto_aam_rgs_min_count_100_d_50.csv\", sep=',')"
   ],
   "metadata": {
    "collapsed": false
   }
  },
  {
   "cell_type": "markdown",
   "source": [
    "## Reagent occurrence counts"
   ],
   "metadata": {
    "collapsed": false
   }
  },
  {
   "cell_type": "code",
   "execution_count": null,
   "outputs": [],
   "source": [
    "fig, ax = plt.subplots(nrows=3, ncols=1, figsize=(15, 10))\n",
    "THRESHOLD_1, THRESHOLD_2 = 100, 400\n",
    "ax[0].plot(d[\"count\"], linewidth=3)\n",
    "ax[0].grid(axis='y')\n",
    "ax[1].plot(d[\"count\"][THRESHOLD_1:], linewidth=3)\n",
    "ax[1].grid(axis='y')\n",
    "ax[2].plot(d[\"count\"][THRESHOLD_2:], linewidth=3)\n",
    "ax[2].grid(axis='y')\n",
    "\n",
    "\n",
    "# First bounding box\n",
    "line_color = \"red\"\n",
    "line_width=2\n",
    "\n",
    "box_right = 0.868\n",
    "\n",
    "box_1_low = 0.64\n",
    "box_1_high = 0.7\n",
    "box_1_left = 0.27\n",
    "graph_2_top_right_x = 0.9005\n",
    "graph_2_top_y = 0.596\n",
    "graph_2_top_left_x = 0.127\n",
    "\n",
    "fig.lines.extend([\n",
    "    plt.Line2D([box_1_left, box_right], [box_1_high, box_1_high],\n",
    "               transform=fig.transFigure, color=line_color, linewidth=line_width),\n",
    "    plt.Line2D([box_1_left, box_right], [box_1_low, box_1_low],\n",
    "               transform=fig.transFigure, color=line_color, linewidth=line_width),\n",
    "    plt.Line2D([box_1_left, box_1_left], [box_1_low, box_1_high],\n",
    "               transform=fig.transFigure, color=line_color, linewidth=line_width),\n",
    "    plt.Line2D([box_right, box_right], [box_1_low, box_1_high],\n",
    "               transform=fig.transFigure, color=line_color, linewidth=line_width),\n",
    "    plt.Line2D([box_right, graph_2_top_right_x], [box_1_low, graph_2_top_y],\n",
    "               transform=fig.transFigure, color=line_color, linewidth=line_width),\n",
    "    plt.Line2D([box_1_left, graph_2_top_left_x], [box_1_low, graph_2_top_y],\n",
    "               transform=fig.transFigure, color=line_color, linewidth=line_width)\n",
    "])\n",
    "\n",
    "# Second bounding box\n",
    "box_2_low = 0.36\n",
    "box_2_high = 0.42\n",
    "box_2_left = 0.6\n",
    "graph_3_top_right_x = 0.9005\n",
    "graph_3_top_y = 0.3114\n",
    "graph_3_top_left_x = 0.127\n",
    "\n",
    "fig.lines.extend([\n",
    "    plt.Line2D([box_2_left, box_right], [box_2_high, box_2_high],\n",
    "               transform=fig.transFigure, color=line_color, linewidth=line_width),\n",
    "    plt.Line2D([box_2_left, box_right], [box_2_low, box_2_low],\n",
    "               transform=fig.transFigure, color=line_color, linewidth=line_width),\n",
    "    plt.Line2D([box_2_left, box_2_left], [box_2_low, box_2_high],\n",
    "               transform=fig.transFigure, color=line_color, linewidth=line_width),\n",
    "    plt.Line2D([box_right, box_right], [box_2_low, box_2_high],\n",
    "               transform=fig.transFigure, color=line_color, linewidth=line_width),\n",
    "    plt.Line2D([box_right, graph_3_top_right_x], [box_2_low, graph_3_top_y],\n",
    "               transform=fig.transFigure, color=line_color, linewidth=line_width),\n",
    "    plt.Line2D([box_2_left, graph_3_top_left_x], [box_2_low, graph_3_top_y],\n",
    "               transform=fig.transFigure, color=line_color, linewidth=line_width)\n",
    "])\n",
    "\n",
    "plt.sca(ax[0])\n",
    "plt.xticks(fontsize=FONTSIZE - 2)\n",
    "plt.yticks(fontsize=FONTSIZE - 2)\n",
    "\n",
    "plt.sca(ax[1])\n",
    "plt.xticks(fontsize=FONTSIZE - 2)\n",
    "plt.yticks(fontsize=FONTSIZE - 2)\n",
    "plt.ylabel(\"Number of occurrences\", fontdict={\"size\": FONTSIZE})\n",
    "\n",
    "plt.sca(ax[2])\n",
    "plt.xticks(fontsize=FONTSIZE - 2)\n",
    "plt.yticks(fontsize=FONTSIZE - 2)\n",
    "plt.xlabel(\"Unique reagent index\", fontdict={\"size\": FONTSIZE})\n",
    "plt.subplots_adjust(hspace=0.4)\n",
    "fig.suptitle(\"Number of occurrences (truncated to 100) for every unique reagent in the USPTO dataset\",\n",
    "             y=0.92,\n",
    "             fontsize=16)\n",
    "plt.savefig(\"../figures/occurrences.png\", dpi=300)\n",
    "plt.show()"
   ],
   "metadata": {
    "collapsed": false
   }
  },
  {
   "cell_type": "markdown",
   "source": [
    "## Distribution of roles"
   ],
   "metadata": {
    "collapsed": false
   }
  },
  {
   "cell_type": "code",
   "execution_count": null,
   "outputs": [],
   "source": [
    "role_distr = d[\"class\"].value_counts(normalize=True).sort_index()\n",
    "\n",
    "plt.figure(figsize=(10, 10))\n",
    "plt.pie(role_distr, colors=px.colors.qualitative.Light24, labels=role_distr.index, autopct='%1.1f%%',\n",
    "        textprops={\"size\": FONTSIZE - 2})\n",
    "plt.title(\"Distribution of roles of the reagents in the USPTO dataset\", fontdict={\"size\": FONTSIZE})\n",
    "plt.savefig(\"../figures/pie.png\", dpi=300)\n",
    "plt.show()"
   ],
   "metadata": {
    "collapsed": false
   }
  },
  {
   "cell_type": "markdown",
   "source": [
    "## Embeddings projection"
   ],
   "metadata": {
    "collapsed": false
   }
  },
  {
   "cell_type": "code",
   "execution_count": 287,
   "outputs": [],
   "source": [
    "role_to_label = {v: i for i, v in enumerate(sorted(d[\"class\"].unique()))}\n",
    "numerical_role_label = d[\"class\"].map(role_to_label)\n",
    "color = [px.colors.qualitative.Light24[i] for i in numerical_role_label]"
   ],
   "metadata": {
    "collapsed": false
   }
  },
  {
   "cell_type": "code",
   "execution_count": null,
   "outputs": [],
   "source": [
    "role_to_color = {k: px.colors.qualitative.Light24[v] for k, v in role_to_label.items()}\n",
    "role_to_color"
   ],
   "metadata": {
    "collapsed": false
   }
  },
  {
   "cell_type": "code",
   "execution_count": 281,
   "outputs": [],
   "source": [
    "points = d[[\"x\", \"y\"]].values"
   ],
   "metadata": {
    "collapsed": false
   }
  },
  {
   "cell_type": "code",
   "execution_count": null,
   "outputs": [],
   "source": [
    "plt.figure(figsize=(10, 10))\n",
    "plt.scatter(points[:, 0], points[:, 1], c=color, edgecolors=\"k\")\n",
    "legend_handles = [\n",
    "            plt.Line2D(\n",
    "                [],\n",
    "                [],\n",
    "                marker=\"s\",\n",
    "                color=\"w\",\n",
    "                markerfacecolor=v,\n",
    "                ms=10,\n",
    "                alpha=1,\n",
    "                linewidth=0,\n",
    "                label=k,\n",
    "                markeredgecolor=\"k\",\n",
    "            )\n",
    "            for k, v in role_to_color.items()\n",
    "        ]\n",
    "legend_kwargs_ = dict(loc=\"center left\", bbox_to_anchor=(1, 0.5), frameon=False, )\n",
    "plt.legend(handles=legend_handles, **legend_kwargs_)\n",
    "plt.title(\"UMAP projection of reagent embeddings\", fontdict={\"size\": FONTSIZE})\n",
    "plt.xlabel(\"UMAP axis 1\", fontdict={\"size\": FONTSIZE - 2})\n",
    "plt.ylabel(\"UMAP axis 2\", fontdict={\"size\": FONTSIZE - 2})\n",
    "plt.xticks([])\n",
    "plt.yticks([])\n",
    "plt.tick_params(axis='x', which='both', bottom=False, top=False)  # Remove ticks on x-axis\n",
    "plt.tick_params(axis='y', which='both', left=False, right=False)  # Remove ticks on y-axis\n",
    "plt.savefig(\"../figures/umap_aam_rgs.png\", dpi=300)\n",
    "plt.show()"
   ],
   "metadata": {
    "collapsed": false
   }
  },
  {
   "cell_type": "markdown",
   "source": [
    "## Voronoi diagram"
   ],
   "metadata": {
    "collapsed": false
   }
  },
  {
   "cell_type": "code",
   "execution_count": null,
   "outputs": [],
   "source": [
    "# compute Voronoi tesselation\n",
    "vor = Voronoi(points)\n",
    "\n",
    "# plot\n",
    "regions, vertices = voronoi_finite_polygons_2d(vor)\n",
    "\n",
    "plt.figure(figsize=(10, 10))\n",
    "# colorize\n",
    "for i, region in enumerate(regions):\n",
    "    polygon = vertices[region]\n",
    "    plt.fill(*zip(*polygon), color=color[i], alpha=1)\n",
    "\n",
    "plt.scatter(points[:, 0], points[:, 1], c=color, edgecolors=\"k\")\n",
    "plt.xlim(vor.min_bound[0] - 0.1, vor.max_bound[0] + 0.1)\n",
    "plt.ylim(vor.min_bound[1] - 0.1, vor.max_bound[1] + 0.1)\n",
    "\n",
    "\n",
    "legend_handles = [\n",
    "            plt.Line2D(\n",
    "                [],\n",
    "                [],\n",
    "                marker=\"s\",\n",
    "                color=\"w\",\n",
    "                markerfacecolor=v,\n",
    "                ms=10,\n",
    "                alpha=1,\n",
    "                linewidth=0,\n",
    "                label=k,\n",
    "                markeredgecolor=\"k\",\n",
    "            )\n",
    "            for k, v in role_to_color.items()\n",
    "        ]\n",
    "legend_kwargs_ = dict(loc=\"center left\", bbox_to_anchor=(1, 0.5), frameon=False, )\n",
    "plt.legend(handles=legend_handles, **legend_kwargs_)\n",
    "plt.title(\"Voronoi diagram of the UMAP projection of reagent embeddings\", fontdict={\"size\": FONTSIZE})\n",
    "plt.xlabel(\"UMAP axis 1\", fontdict={\"size\": FONTSIZE - 2})\n",
    "plt.ylabel(\"UMAP axis 2\", fontdict={\"size\": FONTSIZE - 2})\n",
    "plt.xticks([])\n",
    "plt.yticks([])\n",
    "plt.tick_params(axis='x', which='both', bottom=False, top=False)  # Remove ticks on x-axis\n",
    "plt.tick_params(axis='y', which='both', left=False, right=False)  # Remove ticks on y-axis\n",
    "plt.savefig(\"../figures/umap_aam_rgs_voronoi.png\", dpi=300)\n",
    "plt.show()"
   ],
   "metadata": {
    "collapsed": false
   }
  },
  {
   "cell_type": "markdown",
   "source": [
    "## Largest PMI scores"
   ],
   "metadata": {
    "collapsed": false
   }
  },
  {
   "cell_type": "code",
   "execution_count": 90,
   "outputs": [],
   "source": [
    "import json\n",
    "\n",
    "with open(\"../top_pmi_scores.json\") as f:\n",
    "    top_pmi_scores = json.load(f)"
   ],
   "metadata": {
    "collapsed": false
   }
  },
  {
   "cell_type": "code",
   "execution_count": null,
   "outputs": [],
   "source": [
    "for (r1, r2), score in top_pmi_scores:\n",
    "    print(r1, r2)\n",
    "    display(Draw.MolsToGridImage(\n",
    "        [Chem.MolFromSmiles(r1), Chem.MolFromSmiles(r2)],\n",
    "        molsPerRow=2,\n",
    "        subImgSize=(300, 300)\n",
    "    ))\n",
    "    print(score)"
   ],
   "metadata": {
    "collapsed": false
   }
  }
 ],
 "metadata": {
  "kernelspec": {
   "display_name": "Python 3",
   "language": "python",
   "name": "python3"
  },
  "language_info": {
   "codemirror_mode": {
    "name": "ipython",
    "version": 2
   },
   "file_extension": ".py",
   "mimetype": "text/x-python",
   "name": "python",
   "nbconvert_exporter": "python",
   "pygments_lexer": "ipython2",
   "version": "2.7.6"
  }
 },
 "nbformat": 4,
 "nbformat_minor": 0
}
