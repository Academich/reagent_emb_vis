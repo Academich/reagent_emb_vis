{
 "cells": [
  {
   "cell_type": "code",
   "execution_count": null,
   "metadata": {
    "collapsed": true
   },
   "outputs": [],
   "source": [
    "import operator"
   ]
  },
  {
   "cell_type": "code",
   "execution_count": null,
   "outputs": [],
   "source": [
    "from itertools import combinations"
   ],
   "metadata": {
    "collapsed": false
   }
  },
  {
   "cell_type": "code",
   "execution_count": null,
   "outputs": [],
   "source": [
    "import pandas as pd"
   ],
   "metadata": {
    "collapsed": false
   }
  },
  {
   "cell_type": "code",
   "execution_count": null,
   "outputs": [],
   "source": [
    "import numpy as np\n",
    "import matplotlib.pyplot as plt"
   ],
   "metadata": {
    "collapsed": false
   }
  },
  {
   "cell_type": "code",
   "execution_count": null,
   "outputs": [],
   "source": [
    "from scipy.spatial import Voronoi\n",
    "from scipy.sparse.linalg import svds\n",
    "from scipy.optimize import curve_fit\n",
    "from scipy.spatial import Delaunay"
   ],
   "metadata": {
    "collapsed": false
   }
  },
  {
   "cell_type": "code",
   "execution_count": null,
   "outputs": [],
   "source": [
    "import networkx as nx"
   ],
   "metadata": {
    "collapsed": false
   }
  },
  {
   "cell_type": "code",
   "execution_count": null,
   "outputs": [],
   "source": [
    "from rdkit import Chem\n",
    "from rdkit.Chem import Draw"
   ],
   "metadata": {
    "collapsed": false
   }
  },
  {
   "cell_type": "code",
   "execution_count": null,
   "outputs": [],
   "source": [
    "from IPython.display import display"
   ],
   "metadata": {
    "collapsed": false
   }
  },
  {
   "cell_type": "code",
   "execution_count": null,
   "outputs": [],
   "source": [
    "import plotly.express as px"
   ],
   "metadata": {
    "collapsed": false
   }
  },
  {
   "cell_type": "code",
   "execution_count": null,
   "outputs": [],
   "source": [
    "from preprocessing.utils import get_reagent_statistics, build_pmi_dict, pmi_dict_to_sparse_matrix"
   ],
   "metadata": {
    "collapsed": false
   }
  },
  {
   "cell_type": "code",
   "execution_count": null,
   "outputs": [],
   "source": [
    "from umap import UMAP"
   ],
   "metadata": {
    "collapsed": false
   }
  },
  {
   "cell_type": "code",
   "execution_count": null,
   "outputs": [],
   "source": [
    "def voronoi_finite_polygons_2d(vor, radius=None):\n",
    "    \"\"\"\n",
    "    Reconstruct infinite voronoi regions in a 2D diagram to finite\n",
    "    regions.\n",
    "\n",
    "    Parameters\n",
    "    ----------\n",
    "    vor : Voronoi\n",
    "        Input diagram\n",
    "    radius : float, optional\n",
    "        Distance to 'points at infinity'.\n",
    "\n",
    "    Returns\n",
    "    -------\n",
    "    regions : list of tuples\n",
    "        Indices of vertices in each revised Voronoi regions.\n",
    "    vertices : list of tuples\n",
    "        Coordinates for revised Voronoi vertices. Same as coordinates\n",
    "        of input vertices, with 'points at infinity' appended to the\n",
    "        end.\n",
    "\n",
    "    \"\"\"\n",
    "\n",
    "    if vor.points.shape[1] != 2:\n",
    "        raise ValueError(\"Requires 2D input\")\n",
    "\n",
    "    new_regions = []\n",
    "    new_vertices = vor.vertices.tolist()\n",
    "\n",
    "    center = vor.points.mean(axis=0)\n",
    "    if radius is None:\n",
    "        radius = vor.points.ptp().max()\n",
    "\n",
    "    # Construct a map containing all ridges for a given point\n",
    "    all_ridges = {}\n",
    "    for (p1, p2), (v1, v2) in zip(vor.ridge_points, vor.ridge_vertices):\n",
    "        all_ridges.setdefault(p1, []).append((p2, v1, v2))\n",
    "        all_ridges.setdefault(p2, []).append((p1, v1, v2))\n",
    "\n",
    "    # Reconstruct infinite regions\n",
    "    for p1, region in enumerate(vor.point_region):\n",
    "        vertices = vor.regions[region]\n",
    "\n",
    "        if all(v >= 0 for v in vertices):\n",
    "            # finite region\n",
    "            new_regions.append(vertices)\n",
    "            continue\n",
    "\n",
    "        # reconstruct a non-finite region\n",
    "        ridges = all_ridges[p1]\n",
    "        new_region = [v for v in vertices if v >= 0]\n",
    "\n",
    "        for p2, v1, v2 in ridges:\n",
    "            if v2 < 0:\n",
    "                v1, v2 = v2, v1\n",
    "            if v1 >= 0:\n",
    "                # finite ridge: already in the region\n",
    "                continue\n",
    "\n",
    "            # Compute the missing endpoint of an infinite ridge\n",
    "\n",
    "            t = vor.points[p2] - vor.points[p1]  # tangent\n",
    "            t /= np.linalg.norm(t)\n",
    "            n = np.array([-t[1], t[0]])  # normal\n",
    "\n",
    "            midpoint = vor.points[[p1, p2]].mean(axis=0)\n",
    "            direction = np.sign(np.dot(midpoint - center, n)) * n\n",
    "            far_point = vor.vertices[v2] + direction * radius\n",
    "\n",
    "            new_region.append(len(new_vertices))\n",
    "            new_vertices.append(far_point.tolist())\n",
    "\n",
    "        # sort region counterclockwise\n",
    "        vs = np.asarray([new_vertices[v] for v in new_region])\n",
    "        c = vs.mean(axis=0)\n",
    "        angles = np.arctan2(vs[:, 1] - c[1], vs[:, 0] - c[0])\n",
    "        new_region = np.array(new_region)[np.argsort(angles)]\n",
    "\n",
    "        # finish\n",
    "        new_regions.append(new_region.tolist())\n",
    "\n",
    "    return new_regions, np.asarray(new_vertices)"
   ],
   "metadata": {
    "collapsed": false
   }
  },
  {
   "cell_type": "code",
   "execution_count": null,
   "outputs": [],
   "source": [
    "def read_and_filter_reagent_data(path, min_count):\n",
    "    reagent_smiles = pd.read_csv(path, header=None)[0]\n",
    "    reagent_occurrence_counter = get_reagent_statistics(reagent_smiles, separator=\";\")\n",
    "    i2r = {i: smi for i, (smi, count) in enumerate(reagent_occurrence_counter.most_common()) if count >= min_count}\n",
    "    r2i = {v: k for k, v in i2r.items()}\n",
    "    smiles = [None] * len(i2r)\n",
    "    for i in i2r:\n",
    "        smiles[i] = i2r[i]\n",
    "    smiles_table = pd.DataFrame(smiles)\n",
    "    smiles_table.columns = [\"smiles\"]\n",
    "    smiles_table[\"count\"] = smiles_table[\"smiles\"].map(reagent_occurrence_counter)\n",
    "\n",
    "    filtered_reagent_smiles = reagent_smiles.apply(lambda x: [r for r in x.split(\";\") if r in r2i])\n",
    "    return smiles_table, filtered_reagent_smiles"
   ],
   "metadata": {
    "collapsed": false
   }
  },
  {
   "cell_type": "code",
   "execution_count": null,
   "outputs": [],
   "source": [
    "def get_distributed_representations(unique_smiles, reagent_smiles, emb_dim):\n",
    "    # Building PMI matrix\n",
    "    pmi_scores = pmi_dict_to_sparse_matrix(build_pmi_dict(reagent_smiles),\n",
    "                                           reagent_to_index={smi: i for i, smi in enumerate(unique_smiles)})\n",
    "    # Factorizing PMI matrix\n",
    "    embeddings, _, _ = svds(pmi_scores, k=emb_dim)\n",
    "    norms = np.sqrt(np.sum(np.square(embeddings), axis=1, keepdims=True))\n",
    "    embeddings /= np.maximum(norms, 1e-7)\n",
    "    return embeddings"
   ],
   "metadata": {
    "collapsed": false
   }
  },
  {
   "cell_type": "code",
   "execution_count": null,
   "outputs": [],
   "source": [
    "def reagent_report(smiles_table: pd.Series,\n",
    "                   embs: np.array,\n",
    "                   standard_rgs: pd.DataFrame,\n",
    "                   umap_object):\n",
    "    roles = smiles_table[\"smiles\"].map(dict(standard_rgs.set_index(\"smiles\")[\"class\"]),\n",
    "                                       na_action='ignore').fillna(\"unk\")\n",
    "    names = smiles_table[\"smiles\"].map(dict(standard_rgs.set_index(\"smiles\")[\"name\"]),\n",
    "                                       na_action='ignore').fillna(\"???\")\n",
    "    xy = umap_object.fit_transform(embs)\n",
    "    xy = pd.DataFrame(xy)\n",
    "    result = pd.concat((xy, smiles_table, roles, names), axis=1)\n",
    "    result.columns = [\"x\", \"y\", \"smiles\", \"count\", \"class\", \"name\"]\n",
    "    return result"
   ],
   "metadata": {
    "collapsed": false
   }
  },
  {
   "cell_type": "code",
   "execution_count": null,
   "outputs": [],
   "source": [
    "def get_role_colors(roles):\n",
    "    return {v: px.colors.qualitative.Light24[i] for i, v in enumerate(sorted(roles.unique()))}"
   ],
   "metadata": {
    "collapsed": false
   }
  },
  {
   "cell_type": "code",
   "execution_count": null,
   "outputs": [],
   "source": [
    "def umap_plot(points, roles, save_path=None):\n",
    "    plt.figure(figsize=(10, 10))\n",
    "\n",
    "    role_colors = get_role_colors(roles)\n",
    "    color_seq = roles.map(role_colors)\n",
    "\n",
    "    plt.scatter(points[:, 0], points[:, 1], c=color_seq, edgecolors=\"k\")\n",
    "    legend_handles = [\n",
    "        plt.Line2D(\n",
    "            [],\n",
    "            [],\n",
    "            marker=\"s\",\n",
    "            color=\"w\",\n",
    "            markerfacecolor=v,\n",
    "            ms=10,\n",
    "            alpha=1,\n",
    "            linewidth=0,\n",
    "            label=k,\n",
    "            markeredgecolor=\"k\",\n",
    "        )\n",
    "        for k, v in role_colors.items()\n",
    "    ]\n",
    "    legend_kwargs_ = dict(loc=\"center left\", bbox_to_anchor=(1, 0.5), frameon=False, )\n",
    "    plt.legend(handles=legend_handles, **legend_kwargs_)\n",
    "    plt.title(\"UMAP projection of reagent embeddings\", fontdict={\"size\": FONTSIZE})\n",
    "    plt.xlabel(\"UMAP axis 1\", fontdict={\"size\": FONTSIZE - 2})\n",
    "    plt.ylabel(\"UMAP axis 2\", fontdict={\"size\": FONTSIZE - 2})\n",
    "    plt.xticks([])\n",
    "    plt.yticks([])\n",
    "    plt.tick_params(axis='x', which='both', bottom=False, top=False)  # Remove ticks on x-axis\n",
    "    plt.tick_params(axis='y', which='both', left=False, right=False)  # Remove ticks on y-axis\n",
    "    if save_path is not None:\n",
    "        plt.savefig(save_path, dpi=300, bbox_inches='tight')\n",
    "    plt.show()"
   ],
   "metadata": {
    "collapsed": false
   }
  },
  {
   "cell_type": "markdown",
   "source": [
    "# Global varibles"
   ],
   "metadata": {
    "collapsed": false
   }
  },
  {
   "cell_type": "code",
   "execution_count": null,
   "outputs": [],
   "source": [
    "FONTSIZE = 16\n",
    "MIN_COUNT = 100\n",
    "EMB_DIM = 50\n",
    "STANDARD_REAGENTS_PATH = \"../data/standard_reagents.csv\""
   ],
   "metadata": {
    "collapsed": false
   }
  },
  {
   "cell_type": "code",
   "execution_count": null,
   "outputs": [],
   "source": [
    "standard_reagents = pd.read_csv(STANDARD_REAGENTS_PATH, index_col=[0])"
   ],
   "metadata": {
    "collapsed": false
   }
  },
  {
   "cell_type": "markdown",
   "source": [
    "# Read data"
   ],
   "metadata": {
    "collapsed": false
   }
  },
  {
   "cell_type": "markdown",
   "source": [
    "Reagents determined by atom mapping"
   ],
   "metadata": {
    "collapsed": false
   }
  },
  {
   "cell_type": "code",
   "execution_count": null,
   "outputs": [],
   "source": [
    "uspto_aam_reagents_path = \"../data/uspto_aam_reagents/reagents-1128297.txt\""
   ],
   "metadata": {
    "collapsed": false
   }
  },
  {
   "cell_type": "code",
   "execution_count": null,
   "outputs": [],
   "source": [
    "smiles_table_aam, reagent_smiles_aam = read_and_filter_reagent_data(uspto_aam_reagents_path, min_count=MIN_COUNT)"
   ],
   "metadata": {
    "collapsed": false
   }
  },
  {
   "cell_type": "markdown",
   "source": [
    "Reagents determined by fingerprints where possible"
   ],
   "metadata": {
    "collapsed": false
   }
  },
  {
   "cell_type": "code",
   "execution_count": null,
   "outputs": [],
   "source": [
    "# uspto_mixed_reagents_path = \"../data/uspto_mixed_reagents/reagents-1131934.txt\""
   ],
   "metadata": {
    "collapsed": false
   }
  },
  {
   "cell_type": "code",
   "execution_count": null,
   "outputs": [],
   "source": [
    "# smiles_table_mixed, reagent_smiles_mixed = read_and_filter_reagent_data(uspto_mixed_reagents_path, min_count=MIN_COUNT)"
   ],
   "metadata": {
    "collapsed": false
   }
  },
  {
   "cell_type": "markdown",
   "source": [
    "# Get embeddings"
   ],
   "metadata": {
    "collapsed": false
   }
  },
  {
   "cell_type": "code",
   "execution_count": null,
   "outputs": [],
   "source": [
    "embeddings_aam = get_distributed_representations(smiles_table_aam[\"smiles\"], reagent_smiles_aam, emb_dim=EMB_DIM)"
   ],
   "metadata": {
    "collapsed": false
   }
  },
  {
   "cell_type": "code",
   "execution_count": null,
   "outputs": [],
   "source": [
    "# embeddings_mixed = get_distributed_representations(smiles_table_mixed[\"smiles\"], reagent_smiles_mixed, emb_dim=EMB_DIM)"
   ],
   "metadata": {
    "collapsed": false
   }
  },
  {
   "cell_type": "markdown",
   "source": [
    "# Project embeddings to the plane, get reports"
   ],
   "metadata": {
    "collapsed": false
   }
  },
  {
   "cell_type": "code",
   "execution_count": null,
   "outputs": [],
   "source": [
    "umap_aam = UMAP(random_state=12345)"
   ],
   "metadata": {
    "collapsed": false
   }
  },
  {
   "cell_type": "code",
   "execution_count": null,
   "outputs": [],
   "source": [
    "# umap_mixed = UMAP(random_state=12345)"
   ],
   "metadata": {
    "collapsed": false
   }
  },
  {
   "cell_type": "code",
   "execution_count": null,
   "outputs": [],
   "source": [
    "r_aam = reagent_report(smiles_table_aam, embeddings_aam, standard_reagents, umap_aam)"
   ],
   "metadata": {
    "collapsed": false
   }
  },
  {
   "cell_type": "code",
   "execution_count": null,
   "outputs": [],
   "source": [
    "# r_mixed = reagent_report(smiles_table_mixed, embeddings_mixed, standard_reagents, umap_mixed)"
   ],
   "metadata": {
    "collapsed": false
   }
  },
  {
   "cell_type": "markdown",
   "source": [
    "# Visualize the UMAP projections"
   ],
   "metadata": {
    "collapsed": false
   }
  },
  {
   "cell_type": "code",
   "execution_count": null,
   "outputs": [],
   "source": [
    "points_aam = r_aam[[\"x\", \"y\"]].values"
   ],
   "metadata": {
    "collapsed": false
   }
  },
  {
   "cell_type": "code",
   "execution_count": null,
   "outputs": [],
   "source": [
    "umap_plot(points_aam, r_aam[\"class\"], save_path=\"../figures/umap_aam_rgs.png\")"
   ],
   "metadata": {
    "collapsed": false
   }
  },
  {
   "cell_type": "code",
   "execution_count": null,
   "outputs": [],
   "source": [
    "# Reagents determined by the fingerprint procedure when possible\n",
    "# points_mixed = r_mixed[[\"x\", \"y\"]].values\n",
    "# umap_plot(points_mixed, r_mixed[\"class\"])"
   ],
   "metadata": {
    "collapsed": false
   }
  },
  {
   "cell_type": "markdown",
   "source": [
    "# Highlight the regions of the same role using a Voronoi diagram"
   ],
   "metadata": {
    "collapsed": false
   }
  },
  {
   "cell_type": "code",
   "execution_count": null,
   "outputs": [],
   "source": [
    "# compute Voronoi tesselation\n",
    "vor = Voronoi(points_aam)\n",
    "\n",
    "role_colors_aam = get_role_colors(r_aam[\"class\"])\n",
    "color_aam = r_aam[\"class\"].map(role_colors_aam)\n",
    "\n",
    "# plot\n",
    "regions, vertices = voronoi_finite_polygons_2d(vor)\n",
    "\n",
    "plt.figure(figsize=(10, 10))\n",
    "# colorize\n",
    "for i, region in enumerate(regions):\n",
    "    polygon = vertices[region]\n",
    "    plt.fill(*zip(*polygon), color=color_aam[i], alpha=1)\n",
    "\n",
    "plt.scatter(points_aam[:, 0], points_aam[:, 1], c=color_aam, edgecolors=\"grey\")\n",
    "plt.xlim(vor.min_bound[0] - 0.1, vor.max_bound[0] + 0.1)\n",
    "plt.ylim(vor.min_bound[1] - 0.1, vor.max_bound[1] + 0.1)\n",
    "\n",
    "examples = {\n",
    "    1: \"Peptide coupling activators\",\n",
    "    2: \"Phosphorus-based ligands\",\n",
    "    3: \"Pd catalysts for cross-coupling\",\n",
    "    4: \"Chelators\",\n",
    "    5: \"Hydrogenation and Cu catalysts\",\n",
    "    6: \"Mitsunobu reaction reagents\",\n",
    "    7: \"Chlorinating agents\",\n",
    "    8: \"Aliphatic amine bases\",\n",
    "    9: \"Borohydrides\"\n",
    "}\n",
    "\n",
    "number_labels_fontdict = {\"size\": FONTSIZE + 2, 'weight': 'bold'}\n",
    "plt.figtext(0.14, 0.75, '1', fontdict=number_labels_fontdict)  # Activators for peptide coupling\n",
    "plt.figtext(0.85, 0.30, '2', fontdict=number_labels_fontdict)  # Phosphorus-based ligands\n",
    "plt.figtext(0.70, 0.20, '3', fontdict=number_labels_fontdict)  # Pd-based catalysts for cross-coupling reactions\n",
    "plt.figtext(0.68, 0.12, '4', fontdict=number_labels_fontdict)  # Chelators\n",
    "plt.figtext(0.41, 0.19, '5', fontdict=number_labels_fontdict)  # Hydrogenation catalysts and Cu-based catalysts\n",
    "plt.figtext(0.75, 0.30, '6', fontdict=number_labels_fontdict)  # Mitsunobu reaction reagents\n",
    "plt.figtext(0.31, 0.65, '7', fontdict=number_labels_fontdict)  # Chlorinating agents\n",
    "plt.figtext(0.48, 0.83, '8', fontdict=number_labels_fontdict)  # Aliphatic amine bases\n",
    "plt.figtext(0.66, 0.76, '9', fontdict=number_labels_fontdict)  # Borohydrides\n",
    "\n",
    "for i in range(1, len(examples) + 1):\n",
    "    plt.figtext(0.93, 0.85 - (i - 1) * 0.04, f'{i}: {examples[i]}', fontdict={\"size\": FONTSIZE - 2})\n",
    "\n",
    "legend_handles = [\n",
    "    plt.Line2D(\n",
    "        [],\n",
    "        [],\n",
    "        marker=\"s\",\n",
    "        color=\"w\",\n",
    "        markerfacecolor=v,\n",
    "        ms=10,\n",
    "        alpha=1,\n",
    "        linewidth=0,\n",
    "        label=k,\n",
    "        markeredgecolor=\"k\",\n",
    "    )\n",
    "    for k, v in role_colors_aam.items()\n",
    "]\n",
    "legend_kwargs_ = dict(loc=\"best\", bbox_to_anchor=(1, 0.5), frameon=False, fontsize=FONTSIZE - 2)\n",
    "plt.legend(handles=legend_handles, **legend_kwargs_)\n",
    "plt.title(\"Voronoi diagram of the UMAP projection of reagent embeddings\", fontdict={\"size\": FONTSIZE})\n",
    "plt.xlabel(\"UMAP axis 1\", fontdict={\"size\": FONTSIZE - 2})\n",
    "plt.ylabel(\"UMAP axis 2\", fontdict={\"size\": FONTSIZE - 2})\n",
    "plt.xticks([])\n",
    "plt.yticks([])\n",
    "plt.tick_params(axis='x', which='both', bottom=False, top=False)  # Remove ticks on x-axis\n",
    "plt.tick_params(axis='y', which='both', left=False, right=False)  # Remove ticks on y-axis\n",
    "\n",
    "plt.savefig(\"../figures/Fig-5_umap_aam_rgs_voronoi.png\", dpi=300, bbox_inches='tight')\n",
    "plt.show()"
   ],
   "metadata": {
    "collapsed": false
   }
  },
  {
   "cell_type": "markdown",
   "source": [
    "# Using the Delaunay triangulation to visualize regions of the same color in the Voronoi diagram as connected components of a graph"
   ],
   "metadata": {
    "collapsed": false
   }
  },
  {
   "cell_type": "code",
   "execution_count": null,
   "outputs": [],
   "source": [
    "def contiguous_role_regions(points, color_seq):\n",
    "    delaunay = Delaunay(points=points)\n",
    "    G = nx.Graph()\n",
    "    for i in range(len(points)):\n",
    "        G.add_node(i)\n",
    "    for path in delaunay.simplices:\n",
    "        p1, p2, p3 = path\n",
    "        if color_seq[p1] == color_seq[p2]:\n",
    "            G.add_edge(p1, p2)\n",
    "        if color_seq[p2] == color_seq[p3]:\n",
    "            G.add_edge(p2, p3)\n",
    "        if color_seq[p3] == color_seq[p1]:\n",
    "            G.add_edge(p1, p3)\n",
    "    return G"
   ],
   "metadata": {
    "collapsed": false
   }
  },
  {
   "cell_type": "code",
   "execution_count": null,
   "outputs": [],
   "source": [
    "role_colors_aam = get_role_colors(r_aam[\"class\"])\n",
    "color_seq_aam = r_aam[\"class\"].map(role_colors_aam)\n",
    "G = contiguous_role_regions(points_aam, color_seq_aam)\n",
    "\n",
    "plt.figure(figsize=(10, 10))\n",
    "nx.draw(G, with_labels=False, node_size=20, node_color=color_seq_aam)\n",
    "print(\"Connected components:\", nx.number_connected_components(G))\n",
    "plt.title(\"Regions of the same role in the Voronoi diagram represented as connected components of a graph\")\n",
    "plt.show()"
   ],
   "metadata": {
    "collapsed": false
   }
  },
  {
   "cell_type": "markdown",
   "source": [
    "# Reagent occurrence counts"
   ],
   "metadata": {
    "collapsed": false
   }
  },
  {
   "cell_type": "markdown",
   "source": [
    "## In logarithmic scale"
   ],
   "metadata": {
    "collapsed": false
   }
  },
  {
   "cell_type": "code",
   "execution_count": null,
   "outputs": [],
   "source": [
    "plt.figure(figsize=(10, 10))\n",
    "plt.plot(np.log10(r_aam[\"count\"]), linewidth=2)\n",
    "plt.title(\"Occurrence distribution (truncated to 100) for every unique reagent in the USPTO dataset\",\n",
    "          fontdict={\"size\": FONTSIZE}, y=1.05)\n",
    "plt.xlabel(\"Unique reagent index\", fontdict={\"size\": FONTSIZE})\n",
    "plt.ylabel(\"Decimal logarithm of the number of occurrences\", fontdict={\"size\": FONTSIZE})\n",
    "plt.xticks(fontsize=FONTSIZE - 2)\n",
    "plt.yticks(fontsize=FONTSIZE - 2)\n",
    "plt.grid(axis=\"y\")\n",
    "plt.tight_layout()\n",
    "plt.savefig(\"../figures/Fig-2_occurrences_log.png\", dpi=300, bbox_inches='tight')\n",
    "plt.show()"
   ],
   "metadata": {
    "collapsed": false
   }
  },
  {
   "cell_type": "markdown",
   "source": [
    "## In linear scale"
   ],
   "metadata": {
    "collapsed": false
   }
  },
  {
   "cell_type": "code",
   "execution_count": null,
   "outputs": [],
   "source": [
    "fig, ax = plt.subplots(nrows=3, ncols=1, figsize=(15, 10))\n",
    "THRESHOLD_1, THRESHOLD_2 = 100, 400\n",
    "ax[0].plot(r_aam[\"count\"], linewidth=3)\n",
    "ax[0].grid(axis='y')\n",
    "ax[1].plot(r_aam[\"count\"][THRESHOLD_1:], linewidth=3)\n",
    "ax[1].grid(axis='y')\n",
    "ax[2].plot(r_aam[\"count\"][THRESHOLD_2:], linewidth=3)\n",
    "ax[2].grid(axis='y')\n",
    "\n",
    "# First bounding box\n",
    "line_color = \"red\"\n",
    "line_width = 2\n",
    "\n",
    "box_right = 0.868\n",
    "\n",
    "box_1_low = 0.64\n",
    "box_1_high = 0.7\n",
    "box_1_left = 0.27\n",
    "graph_2_top_right_x = 0.9005\n",
    "graph_2_top_y = 0.596\n",
    "graph_2_top_left_x = 0.127\n",
    "\n",
    "fig.lines.extend([\n",
    "    plt.Line2D([box_1_left, box_right], [box_1_high, box_1_high],\n",
    "               transform=fig.transFigure, color=line_color, linewidth=line_width),\n",
    "    plt.Line2D([box_1_left, box_right], [box_1_low, box_1_low],\n",
    "               transform=fig.transFigure, color=line_color, linewidth=line_width),\n",
    "    plt.Line2D([box_1_left, box_1_left], [box_1_low, box_1_high],\n",
    "               transform=fig.transFigure, color=line_color, linewidth=line_width),\n",
    "    plt.Line2D([box_right, box_right], [box_1_low, box_1_high],\n",
    "               transform=fig.transFigure, color=line_color, linewidth=line_width),\n",
    "    plt.Line2D([box_right, graph_2_top_right_x], [box_1_low, graph_2_top_y],\n",
    "               transform=fig.transFigure, color=line_color, linewidth=line_width),\n",
    "    plt.Line2D([box_1_left, graph_2_top_left_x], [box_1_low, graph_2_top_y],\n",
    "               transform=fig.transFigure, color=line_color, linewidth=line_width)\n",
    "])\n",
    "\n",
    "# Second bounding box\n",
    "box_2_low = 0.36\n",
    "box_2_high = 0.42\n",
    "box_2_left = 0.6\n",
    "graph_3_top_right_x = 0.9005\n",
    "graph_3_top_y = 0.3114\n",
    "graph_3_top_left_x = 0.127\n",
    "\n",
    "fig.lines.extend([\n",
    "    plt.Line2D([box_2_left, box_right], [box_2_high, box_2_high],\n",
    "               transform=fig.transFigure, color=line_color, linewidth=line_width),\n",
    "    plt.Line2D([box_2_left, box_right], [box_2_low, box_2_low],\n",
    "               transform=fig.transFigure, color=line_color, linewidth=line_width),\n",
    "    plt.Line2D([box_2_left, box_2_left], [box_2_low, box_2_high],\n",
    "               transform=fig.transFigure, color=line_color, linewidth=line_width),\n",
    "    plt.Line2D([box_right, box_right], [box_2_low, box_2_high],\n",
    "               transform=fig.transFigure, color=line_color, linewidth=line_width),\n",
    "    plt.Line2D([box_right, graph_3_top_right_x], [box_2_low, graph_3_top_y],\n",
    "               transform=fig.transFigure, color=line_color, linewidth=line_width),\n",
    "    plt.Line2D([box_2_left, graph_3_top_left_x], [box_2_low, graph_3_top_y],\n",
    "               transform=fig.transFigure, color=line_color, linewidth=line_width)\n",
    "])\n",
    "\n",
    "plt.sca(ax[0])\n",
    "plt.xticks(fontsize=FONTSIZE - 2)\n",
    "plt.yticks(fontsize=FONTSIZE - 2)\n",
    "\n",
    "plt.sca(ax[1])\n",
    "plt.xticks(fontsize=FONTSIZE - 2)\n",
    "plt.yticks(fontsize=FONTSIZE - 2)\n",
    "plt.ylabel(\"Number of occurrences\", fontdict={\"size\": FONTSIZE})\n",
    "\n",
    "plt.sca(ax[2])\n",
    "plt.xticks(fontsize=FONTSIZE - 2)\n",
    "plt.yticks(fontsize=FONTSIZE - 2)\n",
    "plt.xlabel(\"Unique reagent index\", fontdict={\"size\": FONTSIZE})\n",
    "plt.subplots_adjust(hspace=0.4)\n",
    "fig.suptitle(\"Number of occurrences (truncated to 100) for every unique reagent in the USPTO dataset\",\n",
    "             y=0.92,\n",
    "             fontsize=16)\n",
    "# plt.savefig(\"../figures/occurrences.png\", dpi=300, bbox_inches='tight')\n",
    "plt.show()"
   ],
   "metadata": {
    "collapsed": false
   }
  },
  {
   "cell_type": "markdown",
   "source": [
    "## Fitting the rule for the reagent count decrease"
   ],
   "metadata": {
    "collapsed": false
   }
  },
  {
   "cell_type": "code",
   "execution_count": null,
   "outputs": [],
   "source": [
    "# Sample data\n",
    "y = r_aam[\"count\"] / r_aam[\"count\"].sum()\n",
    "x = np.arange(1, len(y) + 1)\n",
    "\n",
    "\n",
    "# Define the reciprocal function\n",
    "def reciprocal_func(x, a, b):\n",
    "    return a / x ** b\n",
    "\n",
    "\n",
    "# Fit the data to the reciprocal function\n",
    "params, covariance = curve_fit(reciprocal_func, x[100:], y[100:])\n",
    "\n",
    "# Extracting the fitted parameter\n",
    "fitted_a, fitted_b = params\n",
    "\n",
    "# Plotting the original data and the fitted curve\n",
    "i = 50\n",
    "plt.scatter(x[i:], y[i:], label='Original data')\n",
    "plt.plot(x[i:], reciprocal_func(x, fitted_a, fitted_b)[i:], color='red', label='Fitted curve')\n",
    "plt.xlabel('x')\n",
    "plt.ylabel('y')\n",
    "plt.legend()\n",
    "plt.title('Fitting Reciprocal Function')\n",
    "\n",
    "print(f\"Best fit: {fitted_a:.2f} / x^{fitted_b:.2f}\")\n",
    "\n",
    "plt.show()"
   ],
   "metadata": {
    "collapsed": false
   }
  },
  {
   "cell_type": "markdown",
   "source": [
    "## Distribution of roles"
   ],
   "metadata": {
    "collapsed": false
   }
  },
  {
   "cell_type": "code",
   "execution_count": null,
   "outputs": [],
   "source": [
    "r_aam[\"class\"] = r_aam[\"class\"].apply(lambda x: {\"cat\": \"catalyst\",\n",
    "                                                 \"ox\": \"ox. agent\",\n",
    "                                                 \"red\": \"red. agent\"}.get(x, x).capitalize())\n",
    "role_distr_aam = r_aam[\"class\"].value_counts(normalize=True).sort_index()"
   ],
   "metadata": {
    "collapsed": false
   }
  },
  {
   "cell_type": "code",
   "execution_count": null,
   "outputs": [],
   "source": [
    "# role_distr_mixed = r_mixed[\"class\"].value_counts(normalize=True).sort_index()"
   ],
   "metadata": {
    "collapsed": false
   }
  },
  {
   "cell_type": "code",
   "execution_count": null,
   "outputs": [],
   "source": [
    "role_colors = get_role_colors(r_aam[\"class\"])\n",
    "\n",
    "plt.figure(figsize=(8, 8))\n",
    "plt.pie(role_distr_aam, colors=px.colors.qualitative.Light24, autopct='%1.1f%%', labels=role_distr_aam.index,\n",
    "        textprops={\"size\": FONTSIZE - 2})\n",
    "plt.suptitle(\"Distribution of roles of the reagents in the USPTO dataset\", fontdict={\"size\": FONTSIZE}, y=0.9)\n",
    "plt.savefig(\"../figures/Fig-3_pie.png\", dpi=300, bbox_inches='tight')\n",
    "plt.show()"
   ],
   "metadata": {
    "collapsed": false
   }
  },
  {
   "cell_type": "markdown",
   "source": [
    "# Reagent pairs with largest PMI scores"
   ],
   "metadata": {
    "collapsed": false
   }
  },
  {
   "cell_type": "code",
   "execution_count": null,
   "outputs": [],
   "source": [
    "TOP_SCORES = 15\n",
    "pmi_scores_dict_aam = build_pmi_dict(reagent_smiles_aam)\n",
    "top_pmi_scores_aam = sorted(list(pmi_scores_dict_aam.items()), key=operator.itemgetter(1), reverse=True)[:TOP_SCORES]"
   ],
   "metadata": {
    "collapsed": false
   }
  },
  {
   "cell_type": "code",
   "execution_count": null,
   "outputs": [],
   "source": [
    "for (r1, r2), score in top_pmi_scores_aam:\n",
    "    print(f\"Molecules: {r1} & {r2}. PMI score: {score}\")\n",
    "    display(Draw.MolsToGridImage(\n",
    "        [Chem.MolFromSmiles(r1), Chem.MolFromSmiles(r2)],\n",
    "        molsPerRow=2,\n",
    "        subImgSize=(300, 300)\n",
    "    ))"
   ],
   "metadata": {
    "collapsed": false
   }
  },
  {
   "cell_type": "markdown",
   "source": [
    "# Orphan reagents"
   ],
   "metadata": {
    "collapsed": false
   }
  },
  {
   "cell_type": "markdown",
   "source": [
    "Counting reagent pairs"
   ],
   "metadata": {
    "collapsed": false
   }
  },
  {
   "cell_type": "code",
   "execution_count": null,
   "outputs": [],
   "source": [
    "n_smiles_aam = smiles_table_aam[\"smiles\"].shape[0]\n",
    "reagent_to_index = {smi: i for i, smi in enumerate(smiles_table_aam[\"smiles\"])}\n",
    "reagent_smiles_aam_ids = reagent_smiles_aam.apply(lambda x: [reagent_to_index[s] for s in x if s in reagent_to_index])\n",
    "\n",
    "count_pair = np.zeros((n_smiles_aam, n_smiles_aam))\n",
    "for entry in reagent_smiles_aam_ids:\n",
    "    for rgs_i_1, rgs_i_2 in map(sorted, combinations(entry, 2)):\n",
    "        count_pair[rgs_i_1, rgs_i_2] += 1\n",
    "        count_pair[rgs_i_2, rgs_i_1] += 1"
   ],
   "metadata": {
    "collapsed": false
   }
  },
  {
   "cell_type": "code",
   "execution_count": null,
   "outputs": [],
   "source": [
    "# Which reagents were always the single reagents in a reaction\n",
    "orphan = pd.Series(count_pair.sum(1) == 0)"
   ],
   "metadata": {
    "collapsed": false
   }
  },
  {
   "cell_type": "code",
   "execution_count": null,
   "outputs": [],
   "source": [
    "orphan_reagents_aam = r_aam[orphan]"
   ],
   "metadata": {
    "collapsed": false
   }
  },
  {
   "cell_type": "code",
   "execution_count": null,
   "outputs": [],
   "source": [
    "orphan_reagents_aam"
   ],
   "metadata": {
    "collapsed": false
   }
  },
  {
   "cell_type": "code",
   "execution_count": null,
   "outputs": [],
   "source": [
    "print(\"Orphan reagents (atom mapping)\")\n",
    "display(Draw.MolsToGridImage(\n",
    "    [Chem.MolFromSmiles(i) for i in orphan_reagents_aam[\"smiles\"]],\n",
    "    molsPerRow=3,\n",
    "    legends=[f\"{i}: {r}\" for i, r in zip(orphan_reagents_aam.index, orphan_reagents_aam[\"class\"])],\n",
    "    subImgSize=(300, 300)\n",
    "))"
   ],
   "metadata": {
    "collapsed": false
   }
  },
  {
   "cell_type": "markdown",
   "source": [
    "# Percentage of reactions with rare reagents"
   ],
   "metadata": {
    "collapsed": false
   }
  },
  {
   "cell_type": "code",
   "execution_count": null,
   "outputs": [],
   "source": [
    "frequent_50 = set(r_aam[\"smiles\"].head(50))"
   ],
   "metadata": {
    "collapsed": false
   }
  },
  {
   "cell_type": "code",
   "execution_count": null,
   "outputs": [],
   "source": [
    "# Reactions in which all reagents are from the 50 most common ones\n",
    "reagent_smiles_aam.apply(lambda x: all([r in frequent_50 for r in x])).value_counts(normalize=True)[True]"
   ],
   "metadata": {
    "collapsed": false
   }
  },
  {
   "cell_type": "code",
   "execution_count": null,
   "outputs": [],
   "source": [
    "# Reactions in which at least one reagent is from the 50 most common ones\n",
    "reagent_smiles_aam.apply(lambda x: any([r in frequent_50 for r in x])).value_counts(normalize=True)[True]"
   ],
   "metadata": {
    "collapsed": false
   }
  },
  {
   "cell_type": "markdown",
   "source": [
    "# Exclusive reagents in both reagent determination procedures"
   ],
   "metadata": {
    "collapsed": false
   }
  },
  {
   "cell_type": "code",
   "execution_count": null,
   "outputs": [],
   "source": [
    "aam_only_reagents = r_aam[r_aam[\"name\"].apply(lambda x: x not in set(r_mixed[\"name\"]))]\n",
    "mixed_only_reagents = r_mixed[r_mixed[\"name\"].apply(lambda x: x not in set(r_aam[\"name\"]))]"
   ],
   "metadata": {
    "collapsed": false
   }
  },
  {
   "cell_type": "code",
   "execution_count": null,
   "outputs": [],
   "source": [
    "print(\"Number of all reagents\")\n",
    "print(\"AAM:\", len(r_aam))\n",
    "print(\"Mixed:\", len(r_mixed))\n",
    "print()\n",
    "print(\"Number of exclusive reagents\")\n",
    "print(\"AAM:\", len(aam_only_reagents))\n",
    "print(\"Mixed:\", len(mixed_only_reagents))"
   ],
   "metadata": {
    "collapsed": false
   }
  },
  {
   "cell_type": "markdown",
   "source": [
    "Exlusive reagents mostly have the \"reactant\" role"
   ],
   "metadata": {
    "collapsed": false
   }
  },
  {
   "cell_type": "code",
   "execution_count": null,
   "outputs": [],
   "source": [
    "aam_only_reagents[\"class\"].value_counts()"
   ],
   "metadata": {
    "collapsed": false
   }
  },
  {
   "cell_type": "code",
   "execution_count": null,
   "outputs": [],
   "source": [
    "mixed_only_reagents[\"class\"].value_counts()"
   ],
   "metadata": {
    "collapsed": false
   }
  },
  {
   "cell_type": "code",
   "execution_count": null,
   "outputs": [],
   "source": [
    "aam_only_reagents"
   ],
   "metadata": {
    "collapsed": false
   }
  },
  {
   "cell_type": "code",
   "execution_count": null,
   "outputs": [],
   "source": [
    "mixed_only_reagents"
   ],
   "metadata": {
    "collapsed": false
   }
  },
  {
   "cell_type": "code",
   "execution_count": null,
   "outputs": [],
   "source": [],
   "metadata": {
    "collapsed": false
   }
  }
 ],
 "metadata": {
  "kernelspec": {
   "display_name": "Python 3",
   "language": "python",
   "name": "python3"
  },
  "language_info": {
   "codemirror_mode": {
    "name": "ipython",
    "version": 2
   },
   "file_extension": ".py",
   "mimetype": "text/x-python",
   "name": "python",
   "nbconvert_exporter": "python",
   "pygments_lexer": "ipython2",
   "version": "2.7.6"
  }
 },
 "nbformat": 4,
 "nbformat_minor": 0
}
